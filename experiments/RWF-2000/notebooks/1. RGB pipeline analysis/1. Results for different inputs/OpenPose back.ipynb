{
 "cells": [
  {
   "cell_type": "markdown",
   "metadata": {
    "_cell_guid": "b1076dfc-b9ad-4769-8c92-a6c4dae69d19",
    "_uuid": "8f2839f25d086af736a60e9eeb907d3b93b6e0e5"
   },
   "source": [
    "OpenPose with background videos as input"
   ]
  },
  {
   "cell_type": "code",
   "execution_count": 1,
   "metadata": {
    "execution": {
     "iopub.execute_input": "2022-03-11T13:19:25.977498Z",
     "iopub.status.busy": "2022-03-11T13:19:25.977059Z",
     "iopub.status.idle": "2022-03-11T13:19:25.981746Z",
     "shell.execute_reply": "2022-03-11T13:19:25.980719Z",
     "shell.execute_reply.started": "2022-03-11T13:19:25.977465Z"
    }
   },
   "outputs": [],
   "source": [
    "# Use output of OpenPose with or without background\n",
    "BACKGROUND = True\n",
    "# Paths to videos for training\n",
    "# PATH = f\"../../../datasets/openpose_output/openpose_{'' if BACKGROUND else 'no_'}back\"\n",
    "\n",
    "PATH = \"/home/wins054/Documents/Khoa/Violence-Detection-With-Human-Skeletons/RWF-2000/openpose_gamma_bg\"\n"
   ]
  },
  {
   "cell_type": "code",
   "execution_count": 1,
   "metadata": {
    "execution": {
     "iopub.execute_input": "2022-03-11T13:19:25.98401Z",
     "iopub.status.busy": "2022-03-11T13:19:25.983753Z",
     "iopub.status.idle": "2022-03-11T13:19:25.991894Z",
     "shell.execute_reply": "2022-03-11T13:19:25.991105Z",
     "shell.execute_reply.started": "2022-03-11T13:19:25.983972Z"
    }
   },
   "outputs": [
    {
     "name": "stderr",
     "output_type": "stream",
     "text": [
      "2024-12-15 13:09:42.258778: I tensorflow/core/util/port.cc:153] oneDNN custom operations are on. You may see slightly different numerical results due to floating-point round-off errors from different computation orders. To turn them off, set the environment variable `TF_ENABLE_ONEDNN_OPTS=0`.\n",
      "2024-12-15 13:09:42.266498: E external/local_xla/xla/stream_executor/cuda/cuda_fft.cc:477] Unable to register cuFFT factory: Attempting to register factory for plugin cuFFT when one has already been registered\n",
      "WARNING: All log messages before absl::InitializeLog() is called are written to STDERR\n",
      "E0000 00:00:1734239382.275351 1688030 cuda_dnn.cc:8310] Unable to register cuDNN factory: Attempting to register factory for plugin cuDNN when one has already been registered\n",
      "E0000 00:00:1734239382.278061 1688030 cuda_blas.cc:1418] Unable to register cuBLAS factory: Attempting to register factory for plugin cuBLAS when one has already been registered\n",
      "2024-12-15 13:09:42.287987: I tensorflow/core/platform/cpu_feature_guard.cc:210] This TensorFlow binary is optimized to use available CPU instructions in performance-critical operations.\n",
      "To enable the following instructions: AVX2 AVX_VNNI FMA, in other operations, rebuild TensorFlow with the appropriate compiler flags.\n",
      "/home/wins054/anaconda3/envs/violence-detection-env/lib/python3.9/site-packages/scipy/__init__.py:146: UserWarning: A NumPy version >=1.17.3 and <1.25.0 is required for this version of SciPy (detected version 1.26.4\n",
      "  warnings.warn(f\"A NumPy version >={np_minversion} and <{np_maxversion}\"\n"
     ]
    }
   ],
   "source": [
    "import tensorflow as tf"
   ]
  },
  {
   "cell_type": "code",
   "execution_count": 4,
   "metadata": {},
   "outputs": [
    {
     "data": {
      "text/plain": [
       "0"
      ]
     },
     "execution_count": 4,
     "metadata": {},
     "output_type": "execute_result"
    }
   ],
   "source": [
    "# import tensorflow as tf\n",
    "# from tensorflow.keras import backend as K\n",
    "\n",
    "# # Clear session\n",
    "# K.clear_session()\n",
    "\n",
    "\n",
    "# import gc\n",
    "# # del model\n",
    "# gc.collect()\n"
   ]
  },
  {
   "cell_type": "code",
   "execution_count": 3,
   "metadata": {},
   "outputs": [
    {
     "name": "stdout",
     "output_type": "stream",
     "text": [
      "true\n"
     ]
    }
   ],
   "source": [
    "import os\n",
    "os.environ['TF_FORCE_GPU_ALLOW_GROWTH'] = 'true'\n",
    "print(os.environ.get('TF_FORCE_GPU_ALLOW_GROWTH'))  # Should print 'true'\n"
   ]
  },
  {
   "cell_type": "code",
   "execution_count": 4,
   "metadata": {},
   "outputs": [
    {
     "name": "stdout",
     "output_type": "stream",
     "text": [
      "Memory growth enabled for: PhysicalDevice(name='/physical_device:GPU:0', device_type='GPU')\n"
     ]
    }
   ],
   "source": [
    "import tensorflow as tf\n",
    "\n",
    "# List all physical GPUs\n",
    "gpus = tf.config.list_physical_devices('GPU')\n",
    "\n",
    "if gpus:\n",
    "    # Enable memory growth on the single GPU\n",
    "    try:\n",
    "        tf.config.experimental.set_memory_growth(gpus[0], True)  # Ensure incremental memory allocation\n",
    "        print(f\"Memory growth enabled for: {gpus[0]}\")\n",
    "    except RuntimeError as e:\n",
    "        print(f\"Error setting memory growth: {e}\")\n",
    "else:\n",
    "    print(\"No GPU detected.\")\n"
   ]
  },
  {
   "cell_type": "code",
   "execution_count": 5,
   "metadata": {},
   "outputs": [
    {
     "name": "stdout",
     "output_type": "stream",
     "text": [
      "GPU Available: [PhysicalDevice(name='/physical_device:GPU:0', device_type='GPU')]\n"
     ]
    }
   ],
   "source": [
    "import tensorflow as tf\n",
    "print(\"GPU Available:\", tf.config.list_physical_devices('GPU'))"
   ]
  },
  {
   "cell_type": "markdown",
   "metadata": {},
   "source": [
    "Set seed"
   ]
  },
  {
   "cell_type": "code",
   "execution_count": 6,
   "metadata": {
    "execution": {
     "iopub.execute_input": "2022-03-11T13:19:25.99373Z",
     "iopub.status.busy": "2022-03-11T13:19:25.993435Z",
     "iopub.status.idle": "2022-03-11T13:19:26.016866Z",
     "shell.execute_reply": "2022-03-11T13:19:26.016121Z",
     "shell.execute_reply.started": "2022-03-11T13:19:25.993694Z"
    }
   },
   "outputs": [],
   "source": [
    "SEED = 0\n",
    "import random\n",
    "import numpy as np\n",
    "random.seed(SEED)\n",
    "np.random.seed(SEED)\n",
    "tf.random.set_seed(SEED)"
   ]
  },
  {
   "cell_type": "markdown",
   "metadata": {},
   "source": [
    "# Load data"
   ]
  },
  {
   "cell_type": "markdown",
   "metadata": {},
   "source": [
    "DataGenerator class to load videos per batch, in case all videos do not fit in memory"
   ]
  },
  {
   "cell_type": "code",
   "execution_count": 8,
   "metadata": {},
   "outputs": [],
   "source": [
    "from concurrent.futures import ThreadPoolExecutor\n",
    "import numpy as np\n",
    "import cv2\n",
    "import tensorflow as tf\n",
    "import gc\n",
    "\n",
    "ORIGINAL_FRAMES_PER_VIDEO = 150\n",
    "FRAMES_PER_VIDEO = 50\n",
    "VIDEO_WIDTH, VIDEO_HEIGHT = 100, 100\n",
    "N_CHANNELS = 3\n",
    "\n",
    "def process_single_video(video_ID: str, video_label: dict, frames_idx: set, video_width: int, video_height: int, \n",
    "                         video_channels: int, dtype, normalize: bool):\n",
    "    \"\"\"Process a single video file.\"\"\"\n",
    "    cap = cv2.VideoCapture(video_ID)\n",
    "    frames = []\n",
    "    index = 0\n",
    "    while True:\n",
    "        ret, frame = cap.read()\n",
    "        if not ret:\n",
    "            break\n",
    "        if index in frames_idx:\n",
    "            frame = cv2.resize(frame, (video_width, video_height)).astype(dtype)\n",
    "            if normalize:\n",
    "                frame /= 255.0\n",
    "            frames.append(frame)\n",
    "        index += 1\n",
    "    cap.release()\n",
    "    video_data = np.array(frames)\n",
    "    label = video_label[video_ID]\n",
    "    return video_data, label\n",
    "\n",
    "def load_videos(video_IDs: list, video_labels: dict, video_frames: int = FRAMES_PER_VIDEO, video_width: int = VIDEO_WIDTH, \n",
    "                video_height: int = VIDEO_HEIGHT, video_channels: int = N_CHANNELS, dtype=np.float32, normalize: bool = False) -> tuple:\n",
    "    \"\"\"Load videos using multithreading.\"\"\"\n",
    "    videos = np.empty((len(video_IDs), video_frames, video_height, video_width, video_channels), dtype=dtype)\n",
    "    labels = np.empty((len(video_IDs),), dtype=np.int8)\n",
    "\n",
    "    # Indexes of frames to be kept to comply with video_frames\n",
    "    frames_idx = set(np.round(np.linspace(0, ORIGINAL_FRAMES_PER_VIDEO - 1, video_frames)).astype(int))\n",
    "    \n",
    "    # Use ThreadPoolExecutor to parallelize video processing\n",
    "    with ThreadPoolExecutor() as executor:\n",
    "        futures = [executor.submit(process_single_video, video_ID, video_labels, frames_idx, video_width, video_height, \n",
    "                                   video_channels, dtype, normalize) for video_ID in video_IDs]\n",
    "        for i, future in enumerate(futures):\n",
    "            video_data, label = future.result()\n",
    "            videos[i,] = video_data\n",
    "            labels[i] = label\n",
    "\n",
    "    return videos, labels\n",
    "\n",
    "class DataGenerator(tf.keras.utils.Sequence):\n",
    "    def __init__(self, video_IDs: list, video_labels: dict, batch_size: int, video_width: int = VIDEO_WIDTH, \n",
    "                 video_height: int = VIDEO_HEIGHT, video_frames: int = FRAMES_PER_VIDEO, video_channels: int = N_CHANNELS, \n",
    "                 dtype=np.float32, normalize: bool = False, shuffle: bool = True):\n",
    "        self.video_IDs = video_IDs\n",
    "        self.video_labels = video_labels\n",
    "        self.batch_size = batch_size\n",
    "        self.video_width = video_width\n",
    "        self.video_height = video_height\n",
    "        self.video_frames = video_frames\n",
    "        self.video_channels = video_channels\n",
    "        self.dtype = dtype\n",
    "        self.normalize = normalize\n",
    "        self.shuffle = shuffle\n",
    "\n",
    "    def __len__(self):\n",
    "        return len(self.video_IDs) // self.batch_size\n",
    "\n",
    "    def __getitem__(self, idx):\n",
    "        batch_IDs = self.video_IDs[idx * self.batch_size:(idx + 1) * self.batch_size]\n",
    "        return load_videos(batch_IDs, self.video_labels, self.video_frames, self.video_width, self.video_height, \n",
    "                           self.video_channels, self.dtype, self.normalize)\n",
    "\n",
    "    def on_epoch_end(self):\n",
    "        if self.shuffle:\n",
    "            np.random.shuffle(self.video_IDs)\n",
    "        gc.collect()\n"
   ]
  },
  {
   "cell_type": "markdown",
   "metadata": {},
   "source": [
    "## Videos to load"
   ]
  },
  {
   "cell_type": "code",
   "execution_count": 9,
   "metadata": {},
   "outputs": [],
   "source": [
    "import glob\n",
    "\n",
    "train_video_IDs = glob.glob(f\"{PATH}/train/*/*\")\n",
    "train_video_labels = {video: 0 if 'NonFight' in video else 1 for video in train_video_IDs}\n",
    "test_video_IDs = glob.glob(f\"{PATH}/val/*/*\")\n",
    "test_video_labels = {video: 0 if 'NonFight' in video else 1 for video in test_video_IDs}\n",
    "\n",
    "train_generator = DataGenerator(train_video_IDs, train_video_labels, batch_size=24)\n",
    "test_generator = DataGenerator(test_video_IDs, test_video_labels, batch_size=24)"
   ]
  },
  {
   "cell_type": "code",
   "execution_count": 12,
   "metadata": {},
   "outputs": [
    {
     "name": "stdout",
     "output_type": "stream",
     "text": [
      "1569\n",
      "400\n"
     ]
    }
   ],
   "source": [
    "print (len(train_video_IDs))\n",
    "print (len(test_video_IDs))"
   ]
  },
  {
   "cell_type": "markdown",
   "metadata": {},
   "source": [
    "# ConvLSTM"
   ]
  },
  {
   "cell_type": "code",
   "execution_count": 10,
   "metadata": {
    "execution": {
     "iopub.execute_input": "2022-03-11T13:19:26.087766Z",
     "iopub.status.busy": "2022-03-11T13:19:26.087254Z",
     "iopub.status.idle": "2022-03-11T13:19:26.223842Z",
     "shell.execute_reply": "2022-03-11T13:19:26.223066Z",
     "shell.execute_reply.started": "2022-03-11T13:19:26.087727Z"
    }
   },
   "outputs": [
    {
     "name": "stderr",
     "output_type": "stream",
     "text": [
      "I0000 00:00:1734108720.581802 1313757 gpu_device.cc:2022] Created device /job:localhost/replica:0/task:0/device:GPU:0 with 22218 MB memory:  -> device: 0, name: NVIDIA GeForce RTX 3090, pci bus id: 0000:01:00.0, compute capability: 8.6\n"
     ]
    },
    {
     "data": {
      "text/html": [
       "<pre style=\"white-space:pre;overflow-x:auto;line-height:normal;font-family:Menlo,'DejaVu Sans Mono',consolas,'Courier New',monospace\"><span style=\"font-weight: bold\">Model: \"functional\"</span>\n",
       "</pre>\n"
      ],
      "text/plain": [
       "\u001b[1mModel: \"functional\"\u001b[0m\n"
      ]
     },
     "metadata": {},
     "output_type": "display_data"
    },
    {
     "data": {
      "text/html": [
       "<pre style=\"white-space:pre;overflow-x:auto;line-height:normal;font-family:Menlo,'DejaVu Sans Mono',consolas,'Courier New',monospace\">┏━━━━━━━━━━━━━━━━━━━━━━━━━━━━━━━━━┳━━━━━━━━━━━━━━━━━━━━━━━━┳━━━━━━━━━━━━━━━┓\n",
       "┃<span style=\"font-weight: bold\"> Layer (type)                    </span>┃<span style=\"font-weight: bold\"> Output Shape           </span>┃<span style=\"font-weight: bold\">       Param # </span>┃\n",
       "┡━━━━━━━━━━━━━━━━━━━━━━━━━━━━━━━━━╇━━━━━━━━━━━━━━━━━━━━━━━━╇━━━━━━━━━━━━━━━┩\n",
       "│ input_layer (<span style=\"color: #0087ff; text-decoration-color: #0087ff\">InputLayer</span>)        │ (<span style=\"color: #00d7ff; text-decoration-color: #00d7ff\">None</span>, <span style=\"color: #00af00; text-decoration-color: #00af00\">50</span>, <span style=\"color: #00af00; text-decoration-color: #00af00\">100</span>, <span style=\"color: #00af00; text-decoration-color: #00af00\">100</span>,   │             <span style=\"color: #00af00; text-decoration-color: #00af00\">0</span> │\n",
       "│                                 │ <span style=\"color: #00af00; text-decoration-color: #00af00\">3</span>)                     │               │\n",
       "├─────────────────────────────────┼────────────────────────┼───────────────┤\n",
       "│ conv_lstm2d (<span style=\"color: #0087ff; text-decoration-color: #0087ff\">ConvLSTM2D</span>)        │ (<span style=\"color: #00d7ff; text-decoration-color: #00d7ff\">None</span>, <span style=\"color: #00af00; text-decoration-color: #00af00\">98</span>, <span style=\"color: #00af00; text-decoration-color: #00af00\">98</span>, <span style=\"color: #00af00; text-decoration-color: #00af00\">32</span>)     │        <span style=\"color: #00af00; text-decoration-color: #00af00\">40,448</span> │\n",
       "├─────────────────────────────────┼────────────────────────┼───────────────┤\n",
       "│ depthwise_conv2d                │ (<span style=\"color: #00d7ff; text-decoration-color: #00d7ff\">None</span>, <span style=\"color: #00af00; text-decoration-color: #00af00\">96</span>, <span style=\"color: #00af00; text-decoration-color: #00af00\">96</span>, <span style=\"color: #00af00; text-decoration-color: #00af00\">64</span>)     │           <span style=\"color: #00af00; text-decoration-color: #00af00\">640</span> │\n",
       "│ (<span style=\"color: #0087ff; text-decoration-color: #0087ff\">DepthwiseConv2D</span>)               │                        │               │\n",
       "├─────────────────────────────────┼────────────────────────┼───────────────┤\n",
       "│ global_average_pooling2d        │ (<span style=\"color: #00d7ff; text-decoration-color: #00d7ff\">None</span>, <span style=\"color: #00af00; text-decoration-color: #00af00\">64</span>)             │             <span style=\"color: #00af00; text-decoration-color: #00af00\">0</span> │\n",
       "│ (<span style=\"color: #0087ff; text-decoration-color: #0087ff\">GlobalAveragePooling2D</span>)        │                        │               │\n",
       "├─────────────────────────────────┼────────────────────────┼───────────────┤\n",
       "│ dense (<span style=\"color: #0087ff; text-decoration-color: #0087ff\">Dense</span>)                   │ (<span style=\"color: #00d7ff; text-decoration-color: #00d7ff\">None</span>, <span style=\"color: #00af00; text-decoration-color: #00af00\">128</span>)            │         <span style=\"color: #00af00; text-decoration-color: #00af00\">8,320</span> │\n",
       "├─────────────────────────────────┼────────────────────────┼───────────────┤\n",
       "│ dense_1 (<span style=\"color: #0087ff; text-decoration-color: #0087ff\">Dense</span>)                 │ (<span style=\"color: #00d7ff; text-decoration-color: #00d7ff\">None</span>, <span style=\"color: #00af00; text-decoration-color: #00af00\">16</span>)             │         <span style=\"color: #00af00; text-decoration-color: #00af00\">2,064</span> │\n",
       "├─────────────────────────────────┼────────────────────────┼───────────────┤\n",
       "│ dense_2 (<span style=\"color: #0087ff; text-decoration-color: #0087ff\">Dense</span>)                 │ (<span style=\"color: #00d7ff; text-decoration-color: #00d7ff\">None</span>, <span style=\"color: #00af00; text-decoration-color: #00af00\">1</span>)              │            <span style=\"color: #00af00; text-decoration-color: #00af00\">17</span> │\n",
       "└─────────────────────────────────┴────────────────────────┴───────────────┘\n",
       "</pre>\n"
      ],
      "text/plain": [
       "┏━━━━━━━━━━━━━━━━━━━━━━━━━━━━━━━━━┳━━━━━━━━━━━━━━━━━━━━━━━━┳━━━━━━━━━━━━━━━┓\n",
       "┃\u001b[1m \u001b[0m\u001b[1mLayer (type)                   \u001b[0m\u001b[1m \u001b[0m┃\u001b[1m \u001b[0m\u001b[1mOutput Shape          \u001b[0m\u001b[1m \u001b[0m┃\u001b[1m \u001b[0m\u001b[1m      Param #\u001b[0m\u001b[1m \u001b[0m┃\n",
       "┡━━━━━━━━━━━━━━━━━━━━━━━━━━━━━━━━━╇━━━━━━━━━━━━━━━━━━━━━━━━╇━━━━━━━━━━━━━━━┩\n",
       "│ input_layer (\u001b[38;5;33mInputLayer\u001b[0m)        │ (\u001b[38;5;45mNone\u001b[0m, \u001b[38;5;34m50\u001b[0m, \u001b[38;5;34m100\u001b[0m, \u001b[38;5;34m100\u001b[0m,   │             \u001b[38;5;34m0\u001b[0m │\n",
       "│                                 │ \u001b[38;5;34m3\u001b[0m)                     │               │\n",
       "├─────────────────────────────────┼────────────────────────┼───────────────┤\n",
       "│ conv_lstm2d (\u001b[38;5;33mConvLSTM2D\u001b[0m)        │ (\u001b[38;5;45mNone\u001b[0m, \u001b[38;5;34m98\u001b[0m, \u001b[38;5;34m98\u001b[0m, \u001b[38;5;34m32\u001b[0m)     │        \u001b[38;5;34m40,448\u001b[0m │\n",
       "├─────────────────────────────────┼────────────────────────┼───────────────┤\n",
       "│ depthwise_conv2d                │ (\u001b[38;5;45mNone\u001b[0m, \u001b[38;5;34m96\u001b[0m, \u001b[38;5;34m96\u001b[0m, \u001b[38;5;34m64\u001b[0m)     │           \u001b[38;5;34m640\u001b[0m │\n",
       "│ (\u001b[38;5;33mDepthwiseConv2D\u001b[0m)               │                        │               │\n",
       "├─────────────────────────────────┼────────────────────────┼───────────────┤\n",
       "│ global_average_pooling2d        │ (\u001b[38;5;45mNone\u001b[0m, \u001b[38;5;34m64\u001b[0m)             │             \u001b[38;5;34m0\u001b[0m │\n",
       "│ (\u001b[38;5;33mGlobalAveragePooling2D\u001b[0m)        │                        │               │\n",
       "├─────────────────────────────────┼────────────────────────┼───────────────┤\n",
       "│ dense (\u001b[38;5;33mDense\u001b[0m)                   │ (\u001b[38;5;45mNone\u001b[0m, \u001b[38;5;34m128\u001b[0m)            │         \u001b[38;5;34m8,320\u001b[0m │\n",
       "├─────────────────────────────────┼────────────────────────┼───────────────┤\n",
       "│ dense_1 (\u001b[38;5;33mDense\u001b[0m)                 │ (\u001b[38;5;45mNone\u001b[0m, \u001b[38;5;34m16\u001b[0m)             │         \u001b[38;5;34m2,064\u001b[0m │\n",
       "├─────────────────────────────────┼────────────────────────┼───────────────┤\n",
       "│ dense_2 (\u001b[38;5;33mDense\u001b[0m)                 │ (\u001b[38;5;45mNone\u001b[0m, \u001b[38;5;34m1\u001b[0m)              │            \u001b[38;5;34m17\u001b[0m │\n",
       "└─────────────────────────────────┴────────────────────────┴───────────────┘\n"
      ]
     },
     "metadata": {},
     "output_type": "display_data"
    },
    {
     "data": {
      "text/html": [
       "<pre style=\"white-space:pre;overflow-x:auto;line-height:normal;font-family:Menlo,'DejaVu Sans Mono',consolas,'Courier New',monospace\"><span style=\"font-weight: bold\"> Total params: </span><span style=\"color: #00af00; text-decoration-color: #00af00\">51,489</span> (201.13 KB)\n",
       "</pre>\n"
      ],
      "text/plain": [
       "\u001b[1m Total params: \u001b[0m\u001b[38;5;34m51,489\u001b[0m (201.13 KB)\n"
      ]
     },
     "metadata": {},
     "output_type": "display_data"
    },
    {
     "data": {
      "text/html": [
       "<pre style=\"white-space:pre;overflow-x:auto;line-height:normal;font-family:Menlo,'DejaVu Sans Mono',consolas,'Courier New',monospace\"><span style=\"font-weight: bold\"> Trainable params: </span><span style=\"color: #00af00; text-decoration-color: #00af00\">51,489</span> (201.13 KB)\n",
       "</pre>\n"
      ],
      "text/plain": [
       "\u001b[1m Trainable params: \u001b[0m\u001b[38;5;34m51,489\u001b[0m (201.13 KB)\n"
      ]
     },
     "metadata": {},
     "output_type": "display_data"
    },
    {
     "data": {
      "text/html": [
       "<pre style=\"white-space:pre;overflow-x:auto;line-height:normal;font-family:Menlo,'DejaVu Sans Mono',consolas,'Courier New',monospace\"><span style=\"font-weight: bold\"> Non-trainable params: </span><span style=\"color: #00af00; text-decoration-color: #00af00\">0</span> (0.00 B)\n",
       "</pre>\n"
      ],
      "text/plain": [
       "\u001b[1m Non-trainable params: \u001b[0m\u001b[38;5;34m0\u001b[0m (0.00 B)\n"
      ]
     },
     "metadata": {},
     "output_type": "display_data"
    }
   ],
   "source": [
    "inputs = tf.keras.layers.Input(shape=(FRAMES_PER_VIDEO, VIDEO_HEIGHT, VIDEO_WIDTH, N_CHANNELS))\n",
    "\n",
    "x = tf.keras.layers.ConvLSTM2D(filters=32, kernel_size=(3, 3), return_sequences=False, data_format='channels_last', activation='tanh')(inputs)\n",
    "\n",
    "x = tf.keras.layers.DepthwiseConv2D(kernel_size=(3, 3), depth_multiplier=2, activation='relu', data_format='channels_last')(x)\n",
    "\n",
    "x = tf.keras.layers.GlobalAveragePooling2D(data_format='channels_last')(x)\n",
    "\n",
    "x = tf.keras.layers.Dense(units=128, activation='relu')(x)\n",
    "x = tf.keras.layers.Dense(units=16, activation='relu')(x)\n",
    "outputs = tf.keras.layers.Dense(units=1, activation='sigmoid')(x)\n",
    "\n",
    "model = tf.keras.Model(inputs, outputs)\n",
    "model.compile(optimizer='adam', loss='binary_crossentropy', metrics=['accuracy'])\n",
    "\n",
    "model.summary()"
   ]
  },
  {
   "cell_type": "code",
   "execution_count": 13,
   "metadata": {},
   "outputs": [
    {
     "name": "stderr",
     "output_type": "stream",
     "text": [
      "/home/wins054/anaconda3/envs/violence-detection-env/lib/python3.9/site-packages/keras/src/trainers/data_adapters/py_dataset_adapter.py:121: UserWarning: Your `PyDataset` class should call `super().__init__(**kwargs)` in its constructor. `**kwargs` can include `workers`, `use_multiprocessing`, `max_queue_size`. Do not pass these arguments to `fit()`, as they will be ignored.\n",
      "  self._warn_if_super_not_called()\n"
     ]
    },
    {
     "name": "stdout",
     "output_type": "stream",
     "text": [
      "Epoch 1/30\n"
     ]
    },
    {
     "name": "stderr",
     "output_type": "stream",
     "text": [
      "WARNING: All log messages before absl::InitializeLog() is called are written to STDERR\n",
      "I0000 00:00:1734108786.627932 1315778 service.cc:148] XLA service 0x7740d00d16e0 initialized for platform CUDA (this does not guarantee that XLA will be used). Devices:\n",
      "I0000 00:00:1734108786.628042 1315778 service.cc:156]   StreamExecutor device (0): NVIDIA GeForce RTX 3090, Compute Capability 8.6\n",
      "2024-12-14 00:53:06.711931: I tensorflow/compiler/mlir/tensorflow/utils/dump_mlir_util.cc:268] disabling MLIR crash reproducer, set env var `MLIR_CRASH_REPRODUCER_DIRECTORY` to enable.\n",
      "I0000 00:00:1734108786.991537 1315778 cuda_dnn.cc:529] Loaded cuDNN version 90300\n",
      "I0000 00:00:1734108789.063764 1315778 device_compiler.h:188] Compiled cluster using XLA!  This line is logged at most once for the lifetime of the process.\n"
     ]
    },
    {
     "name": "stdout",
     "output_type": "stream",
     "text": [
      "65/65 - 46s - 714ms/step - accuracy: 0.6250 - loss: 0.6489 - val_accuracy: 0.7630 - val_loss: 0.5041\n",
      "Epoch 2/30\n",
      "65/65 - 41s - 634ms/step - accuracy: 0.7269 - loss: 0.5561 - val_accuracy: 0.7891 - val_loss: 0.4815\n",
      "Epoch 3/30\n",
      "65/65 - 41s - 632ms/step - accuracy: 0.7346 - loss: 0.5268 - val_accuracy: 0.7917 - val_loss: 0.4616\n",
      "Epoch 4/30\n",
      "65/65 - 41s - 631ms/step - accuracy: 0.7423 - loss: 0.5184 - val_accuracy: 0.8099 - val_loss: 0.4342\n",
      "Epoch 5/30\n",
      "65/65 - 41s - 636ms/step - accuracy: 0.7622 - loss: 0.4925 - val_accuracy: 0.7839 - val_loss: 0.4527\n",
      "Epoch 6/30\n",
      "65/65 - 42s - 641ms/step - accuracy: 0.7724 - loss: 0.4784 - val_accuracy: 0.8021 - val_loss: 0.4180\n",
      "Epoch 7/30\n",
      "65/65 - 42s - 643ms/step - accuracy: 0.7878 - loss: 0.4682 - val_accuracy: 0.7370 - val_loss: 0.5178\n",
      "Epoch 8/30\n",
      "65/65 - 41s - 626ms/step - accuracy: 0.7795 - loss: 0.4806 - val_accuracy: 0.8047 - val_loss: 0.4189\n",
      "Epoch 9/30\n",
      "65/65 - 41s - 627ms/step - accuracy: 0.7872 - loss: 0.4498 - val_accuracy: 0.8177 - val_loss: 0.4009\n",
      "Epoch 10/30\n",
      "65/65 - 42s - 642ms/step - accuracy: 0.8058 - loss: 0.4352 - val_accuracy: 0.8203 - val_loss: 0.3894\n",
      "Epoch 11/30\n",
      "65/65 - 41s - 637ms/step - accuracy: 0.8109 - loss: 0.4238 - val_accuracy: 0.8099 - val_loss: 0.4232\n",
      "Epoch 12/30\n",
      "65/65 - 41s - 632ms/step - accuracy: 0.8026 - loss: 0.4336 - val_accuracy: 0.8151 - val_loss: 0.4027\n",
      "Epoch 13/30\n",
      "65/65 - 41s - 633ms/step - accuracy: 0.8218 - loss: 0.4069 - val_accuracy: 0.8307 - val_loss: 0.3973\n",
      "Epoch 14/30\n",
      "65/65 - 41s - 635ms/step - accuracy: 0.8128 - loss: 0.4133 - val_accuracy: 0.8438 - val_loss: 0.3718\n",
      "Epoch 15/30\n",
      "65/65 - 41s - 625ms/step - accuracy: 0.8321 - loss: 0.3912 - val_accuracy: 0.8333 - val_loss: 0.3828\n",
      "Epoch 16/30\n",
      "65/65 - 41s - 625ms/step - accuracy: 0.8340 - loss: 0.3891 - val_accuracy: 0.8333 - val_loss: 0.3860\n",
      "Epoch 17/30\n",
      "65/65 - 42s - 639ms/step - accuracy: 0.8295 - loss: 0.3974 - val_accuracy: 0.7891 - val_loss: 0.4318\n",
      "Epoch 18/30\n",
      "65/65 - 41s - 627ms/step - accuracy: 0.8353 - loss: 0.3865 - val_accuracy: 0.8359 - val_loss: 0.3902\n",
      "Epoch 19/30\n",
      "65/65 - 41s - 633ms/step - accuracy: 0.8301 - loss: 0.3859 - val_accuracy: 0.8333 - val_loss: 0.3672\n",
      "Epoch 20/30\n",
      "65/65 - 41s - 633ms/step - accuracy: 0.8301 - loss: 0.3872 - val_accuracy: 0.8490 - val_loss: 0.3709\n",
      "Epoch 21/30\n",
      "65/65 - 40s - 621ms/step - accuracy: 0.8417 - loss: 0.3661 - val_accuracy: 0.7943 - val_loss: 0.4098\n",
      "Epoch 22/30\n",
      "65/65 - 40s - 623ms/step - accuracy: 0.8372 - loss: 0.3795 - val_accuracy: 0.8359 - val_loss: 0.3659\n",
      "Epoch 23/30\n",
      "65/65 - 42s - 639ms/step - accuracy: 0.8327 - loss: 0.3845 - val_accuracy: 0.8464 - val_loss: 0.3774\n",
      "Epoch 24/30\n",
      "65/65 - 42s - 649ms/step - accuracy: 0.8615 - loss: 0.3484 - val_accuracy: 0.8073 - val_loss: 0.4351\n",
      "Epoch 25/30\n",
      "65/65 - 41s - 637ms/step - accuracy: 0.8481 - loss: 0.3630 - val_accuracy: 0.8438 - val_loss: 0.3727\n",
      "Epoch 26/30\n",
      "65/65 - 41s - 633ms/step - accuracy: 0.8609 - loss: 0.3440 - val_accuracy: 0.8438 - val_loss: 0.3810\n",
      "Epoch 27/30\n",
      "65/65 - 41s - 628ms/step - accuracy: 0.8647 - loss: 0.3276 - val_accuracy: 0.8333 - val_loss: 0.3963\n",
      "Epoch 28/30\n",
      "65/65 - 41s - 624ms/step - accuracy: 0.8628 - loss: 0.3333 - val_accuracy: 0.8385 - val_loss: 0.3785\n",
      "Epoch 29/30\n",
      "65/65 - 41s - 626ms/step - accuracy: 0.8654 - loss: 0.3340 - val_accuracy: 0.8385 - val_loss: 0.3578\n",
      "Epoch 30/30\n",
      "65/65 - 41s - 630ms/step - accuracy: 0.8590 - loss: 0.3428 - val_accuracy: 0.8438 - val_loss: 0.3833\n"
     ]
    }
   ],
   "source": [
    "with tf.device('/GPU:0'):\n",
    "    history = model.fit(train_generator, epochs=30, validation_data=test_generator, verbose=2)"
   ]
  },
  {
   "cell_type": "code",
   "execution_count": 10,
   "metadata": {
    "execution": {
     "iopub.execute_input": "2022-03-11T13:19:26.225669Z",
     "iopub.status.busy": "2022-03-11T13:19:26.225387Z",
     "iopub.status.idle": "2022-03-11T14:02:30.18049Z",
     "shell.execute_reply": "2022-03-11T14:02:30.177368Z",
     "shell.execute_reply.started": "2022-03-11T13:19:26.225631Z"
    },
    "pycharm": {
     "is_executing": true
    }
   },
   "outputs": [
    {
     "name": "stdout",
     "output_type": "stream",
     "text": [
      "Epoch 1/30\n"
     ]
    },
    {
     "name": "stderr",
     "output_type": "stream",
     "text": [
      "2022-05-05 15:14:01.955632: I tensorflow/stream_executor/cuda/cuda_dnn.cc:368] Loaded cuDNN version 8303\n",
      "2022-05-05 15:14:02.634170: W tensorflow/stream_executor/gpu/asm_compiler.cc:111] *** WARNING *** You are using ptxas 10.1.243, which is older than 11.1. ptxas before 11.1 is known to miscompile XLA code, leading to incorrect results or invalid-address errors.\n",
      "\n",
      "You may not need to update to CUDA 11.1; cherry-picking the ptxas binary is often sufficient.\n",
      "2022-05-05 15:14:02.635985: W tensorflow/stream_executor/gpu/asm_compiler.cc:230] Falling back to the CUDA driver for PTX compilation; ptxas does not support CC 8.0\n",
      "2022-05-05 15:14:02.636012: W tensorflow/stream_executor/gpu/asm_compiler.cc:233] Used ptxas at ptxas\n",
      "2022-05-05 15:14:02.636150: W tensorflow/stream_executor/gpu/redzone_allocator.cc:314] UNIMPLEMENTED: ptxas ptxas too old. Falling back to the driver to compile.\n",
      "Relying on driver to perform ptx compilation. \n",
      "Modify $PATH to customize ptxas location.\n",
      "This message will be only logged once.\n",
      "2022-05-05 15:14:02.864430: I tensorflow/stream_executor/cuda/cuda_blas.cc:1786] TensorFloat-32 will be used for the matrix multiplication. This will only be logged once.\n"
     ]
    },
    {
     "name": "stdout",
     "output_type": "stream",
     "text": [
      "160/160 - 321s - loss: 0.6964 - accuracy: 0.4744 - val_loss: 0.6918 - val_accuracy: 0.4975 - 321s/epoch - 2s/step\n",
      "Epoch 2/30\n",
      "160/160 - 320s - loss: 0.6830 - accuracy: 0.5638 - val_loss: 0.6125 - val_accuracy: 0.7225 - 320s/epoch - 2s/step\n",
      "Epoch 3/30\n",
      "160/160 - 320s - loss: 0.6737 - accuracy: 0.5875 - val_loss: 0.6183 - val_accuracy: 0.7175 - 320s/epoch - 2s/step\n",
      "Epoch 4/30\n",
      "160/160 - 319s - loss: 0.6540 - accuracy: 0.6156 - val_loss: 0.5690 - val_accuracy: 0.7575 - 319s/epoch - 2s/step\n",
      "Epoch 5/30\n",
      "160/160 - 321s - loss: 0.6323 - accuracy: 0.6369 - val_loss: 0.5891 - val_accuracy: 0.6850 - 321s/epoch - 2s/step\n",
      "Epoch 6/30\n",
      "160/160 - 321s - loss: 0.6040 - accuracy: 0.6650 - val_loss: 0.5143 - val_accuracy: 0.7475 - 321s/epoch - 2s/step\n",
      "Epoch 7/30\n",
      "160/160 - 322s - loss: 0.5941 - accuracy: 0.6869 - val_loss: 0.5265 - val_accuracy: 0.7650 - 322s/epoch - 2s/step\n",
      "Epoch 8/30\n",
      "160/160 - 323s - loss: 0.5916 - accuracy: 0.6787 - val_loss: 0.5019 - val_accuracy: 0.7650 - 323s/epoch - 2s/step\n",
      "Epoch 9/30\n",
      "160/160 - 321s - loss: 0.5871 - accuracy: 0.6756 - val_loss: 0.5016 - val_accuracy: 0.7725 - 321s/epoch - 2s/step\n",
      "Epoch 10/30\n",
      "160/160 - 320s - loss: 0.5817 - accuracy: 0.6888 - val_loss: 0.5377 - val_accuracy: 0.7450 - 320s/epoch - 2s/step\n",
      "Epoch 11/30\n",
      "160/160 - 321s - loss: 0.5805 - accuracy: 0.6925 - val_loss: 0.5384 - val_accuracy: 0.7500 - 321s/epoch - 2s/step\n",
      "Epoch 12/30\n",
      "160/160 - 323s - loss: 0.5779 - accuracy: 0.6900 - val_loss: 0.4897 - val_accuracy: 0.7700 - 323s/epoch - 2s/step\n",
      "Epoch 13/30\n",
      "160/160 - 321s - loss: 0.5706 - accuracy: 0.6944 - val_loss: 0.4820 - val_accuracy: 0.7775 - 321s/epoch - 2s/step\n",
      "Epoch 14/30\n",
      "160/160 - 320s - loss: 0.5725 - accuracy: 0.6994 - val_loss: 0.4872 - val_accuracy: 0.7475 - 320s/epoch - 2s/step\n",
      "Epoch 15/30\n",
      "160/160 - 321s - loss: 0.5632 - accuracy: 0.7025 - val_loss: 0.5115 - val_accuracy: 0.7000 - 321s/epoch - 2s/step\n",
      "Epoch 16/30\n",
      "160/160 - 321s - loss: 0.5700 - accuracy: 0.7019 - val_loss: 0.4689 - val_accuracy: 0.7875 - 321s/epoch - 2s/step\n",
      "Epoch 17/30\n",
      "160/160 - 322s - loss: 0.5630 - accuracy: 0.7056 - val_loss: 0.4791 - val_accuracy: 0.7925 - 322s/epoch - 2s/step\n",
      "Epoch 18/30\n",
      "160/160 - 320s - loss: 0.5582 - accuracy: 0.7131 - val_loss: 0.4863 - val_accuracy: 0.7800 - 320s/epoch - 2s/step\n",
      "Epoch 19/30\n",
      "160/160 - 322s - loss: 0.5568 - accuracy: 0.7119 - val_loss: 0.4642 - val_accuracy: 0.7850 - 322s/epoch - 2s/step\n",
      "Epoch 20/30\n",
      "160/160 - 322s - loss: 0.5571 - accuracy: 0.7038 - val_loss: 0.4868 - val_accuracy: 0.7900 - 322s/epoch - 2s/step\n",
      "Epoch 21/30\n",
      "160/160 - 315s - loss: 0.5515 - accuracy: 0.7169 - val_loss: 0.4664 - val_accuracy: 0.7825 - 315s/epoch - 2s/step\n",
      "Epoch 22/30\n",
      "160/160 - 318s - loss: 0.5443 - accuracy: 0.7181 - val_loss: 0.4498 - val_accuracy: 0.7950 - 318s/epoch - 2s/step\n",
      "Epoch 23/30\n",
      "160/160 - 321s - loss: 0.5512 - accuracy: 0.7156 - val_loss: 0.4526 - val_accuracy: 0.7925 - 321s/epoch - 2s/step\n",
      "Epoch 24/30\n",
      "160/160 - 318s - loss: 0.5537 - accuracy: 0.7081 - val_loss: 0.4988 - val_accuracy: 0.7850 - 318s/epoch - 2s/step\n",
      "Epoch 25/30\n",
      "160/160 - 322s - loss: 0.5385 - accuracy: 0.7094 - val_loss: 0.4646 - val_accuracy: 0.7725 - 322s/epoch - 2s/step\n",
      "Epoch 26/30\n",
      "160/160 - 322s - loss: 0.5344 - accuracy: 0.7281 - val_loss: 0.4728 - val_accuracy: 0.8000 - 322s/epoch - 2s/step\n",
      "Epoch 27/30\n",
      "160/160 - 321s - loss: 0.5505 - accuracy: 0.7081 - val_loss: 0.4753 - val_accuracy: 0.7825 - 321s/epoch - 2s/step\n",
      "Epoch 28/30\n",
      "160/160 - 322s - loss: 0.5379 - accuracy: 0.7119 - val_loss: 0.5047 - val_accuracy: 0.7675 - 322s/epoch - 2s/step\n",
      "Epoch 29/30\n",
      "160/160 - 321s - loss: 0.5456 - accuracy: 0.7269 - val_loss: 0.4791 - val_accuracy: 0.7750 - 321s/epoch - 2s/step\n",
      "Epoch 30/30\n",
      "160/160 - 323s - loss: 0.5294 - accuracy: 0.7350 - val_loss: 0.4460 - val_accuracy: 0.7775 - 323s/epoch - 2s/step\n"
     ]
    }
   ],
   "source": [
    "history = model.fit(train_generator, epochs=30, validation_data=test_generator, verbose=2)"
   ]
  },
  {
   "cell_type": "markdown",
   "metadata": {},
   "source": [
    "# Authors' Model performance"
   ]
  },
  {
   "cell_type": "code",
   "execution_count": 14,
   "metadata": {},
   "outputs": [
    {
     "data": {
      "image/png": "[encoded data removed]",
      "text/plain": [
       "<Figure size 432x288 with 1 Axes>"
      ]
     },
     "metadata": {
      "needs_background": "light"
     },
     "output_type": "display_data"
    },
    {
     "data": {
      "image/png": "[encoded data removed]",
      "text/plain": [
       "<Figure size 432x288 with 1 Axes>"
      ]
     },
     "metadata": {
      "needs_background": "light"
     },
     "output_type": "display_data"
    }
   ],
   "source": [
    "import matplotlib.pyplot as plt\n",
    "# summarize history for accuracy\n",
    "plt.plot(history.history['accuracy'])\n",
    "plt.plot(history.history['val_accuracy'])\n",
    "plt.title('model accuracy')\n",
    "plt.ylabel('accuracy')\n",
    "plt.xlabel('epoch')\n",
    "plt.legend(['train', 'test'], loc='upper left')\n",
    "plt.show()\n",
    "# summarize history for loss\n",
    "plt.plot(history.history['loss'])\n",
    "plt.plot(history.history['val_loss'])\n",
    "plt.title('model loss')\n",
    "plt.ylabel('loss')\n",
    "plt.xlabel('epoch')\n",
    "plt.legend(['train', 'test'], loc='upper left')\n",
    "plt.show()"
   ]
  },
  {
   "cell_type": "markdown",
   "metadata": {},
   "source": [
    "# Reproduce Model Performance"
   ]
  },
  {
   "cell_type": "code",
   "execution_count": 11,
   "metadata": {
    "execution": {
     "iopub.status.busy": "2022-03-11T14:02:30.183078Z",
     "iopub.status.idle": "2022-03-11T14:02:30.185057Z",
     "shell.execute_reply": "2022-03-11T14:02:30.184854Z",
     "shell.execute_reply.started": "2022-03-11T14:02:30.184829Z"
    },
    "pycharm": {
     "is_executing": true
    }
   },
   "outputs": [
    {
     "data": {
      "image/png": "[encoded data removed]",
      "text/plain": [
       "<Figure size 432x288 with 1 Axes>"
      ]
     },
     "metadata": {
      "needs_background": "light"
     },
     "output_type": "display_data"
    },
    {
     "data": {
      "image/png": "[encoded data removed]",
      "text/plain": [
       "<Figure size 432x288 with 1 Axes>"
      ]
     },
     "metadata": {
      "needs_background": "light"
     },
     "output_type": "display_data"
    }
   ],
   "source": [
    "import matplotlib.pyplot as plt\n",
    "# summarize history for accuracy\n",
    "plt.plot(history.history['accuracy'])\n",
    "plt.plot(history.history['val_accuracy'])\n",
    "plt.title('model accuracy')\n",
    "plt.ylabel('accuracy')\n",
    "plt.xlabel('epoch')\n",
    "plt.legend(['train', 'test'], loc='upper left')\n",
    "plt.show()\n",
    "# summarize history for loss\n",
    "plt.plot(history.history['loss'])\n",
    "plt.plot(history.history['val_loss'])\n",
    "plt.title('model loss')\n",
    "plt.ylabel('loss')\n",
    "plt.xlabel('epoch')\n",
    "plt.legend(['train', 'test'], loc='upper left')\n",
    "plt.show()"
   ]
  },
  {
   "cell_type": "markdown",
   "metadata": {},
   "source": [
    "# Save perfomance metrics"
   ]
  },
  {
   "cell_type": "code",
   "execution_count": 15,
   "metadata": {},
   "outputs": [],
   "source": [
    "import os\n",
    "import ipynbname\n",
    "import json\n",
    "# from keras.utils.layer_utils import count_params\n",
    "\n",
    "current_directory = os.getcwd() + '/'\n",
    "results_directory = current_directory.replace('notebooks', 'results_summary')\n",
    "\n",
    "experiment_name = \"Openpose back\"\n",
    "\n",
    "# Save history as json\n",
    "with open(results_directory + experiment_name + '.json', 'w') as f:\n",
    "    json.dump(history.history, f)\n",
    "    \n",
    "# Compute max val_accuracy and number of trainable params and append to stats\n",
    "max_val_acc = max(history.history['val_accuracy'])\n",
    "trainable_params = model.count_params()\n",
    "\n",
    "# Store value in latex table format\n",
    "acc_string = f'{experiment_name} & {max_val_acc:.2%}'.replace('%', '\\%')\n",
    "acc_params_string = acc_string + f' & {trainable_params}'\n",
    "\n",
    "with open(results_directory + 'acc.dat', 'a') as f:\n",
    "    f.write(acc_string + ' \\\\\\ \\n')\n",
    "    \n",
    "with open(results_directory + 'acc_params.dat', 'a') as f:\n",
    "    f.write(acc_params_string + ' \\\\\\ \\n')"
   ]
  },
  {
   "cell_type": "code",
   "execution_count": 16,
   "metadata": {},
   "outputs": [],
   "source": [
    "model.save(f\"{experiment_name}.keras\")"
   ]
  }
 ],
 "metadata": {
  "kernelspec": {
   "display_name": "violence-detection-env",
   "language": "python",
   "name": "python3"
  },
  "language_info": {
   "codemirror_mode": {
    "name": "ipython",
    "version": 3
   },
   "file_extension": ".py",
   "mimetype": "text/x-python",
   "name": "python",
   "nbconvert_exporter": "python",
   "pygments_lexer": "ipython3",
   "version": "undefined.undefined.undefined"
  }
 },
 "nbformat": 4,
 "nbformat_minor": 4
}
