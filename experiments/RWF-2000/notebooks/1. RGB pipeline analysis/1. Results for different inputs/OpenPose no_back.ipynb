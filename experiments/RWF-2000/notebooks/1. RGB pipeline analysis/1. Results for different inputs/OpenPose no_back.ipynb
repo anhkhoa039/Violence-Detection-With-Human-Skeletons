{
 "cells": [
  {
   "cell_type": "markdown",
   "metadata": {
    "_cell_guid": "b1076dfc-b9ad-4769-8c92-a6c4dae69d19",
    "_uuid": "8f2839f25d086af736a60e9eeb907d3b93b6e0e5"
   },
   "source": [
    "OpenPose without background videos as input"
   ]
  },
  {
   "cell_type": "code",
   "execution_count": 11,
   "metadata": {
    "execution": {
     "iopub.execute_input": "2022-03-11T13:19:25.977498Z",
     "iopub.status.busy": "2022-03-11T13:19:25.977059Z",
     "iopub.status.idle": "2022-03-11T13:19:25.981746Z",
     "shell.execute_reply": "2022-03-11T13:19:25.980719Z",
     "shell.execute_reply.started": "2022-03-11T13:19:25.977465Z"
    }
   },
   "outputs": [],
   "source": [
    "# Use output of OpenPose with or without background\n",
    "BACKGROUND = False\n",
    "# Paths to videos for training\n",
    "# PATH = f\"../../../datasets/openpose_output/openpose_{'' if BACKGROUND else 'no_'}back\"\n",
    "PATH = \"/home/wins054/Documents/Khoa/Violence-Detection-With-Human-Skeletons/RWF-2000/openpose_gamma\"\n",
    "\n",
    "\n"
   ]
  },
  {
   "cell_type": "code",
   "execution_count": 23,
   "metadata": {},
   "outputs": [
    {
     "data": {
      "text/plain": [
       "0"
      ]
     },
     "execution_count": 23,
     "metadata": {},
     "output_type": "execute_result"
    }
   ],
   "source": [
    "# import tensorflow as tf\n",
    "# from tensorflow.keras import backend as K\n",
    "\n",
    "# # Clear session\n",
    "# K.clear_session()\n",
    "\n",
    "\n",
    "# import gc\n",
    "# del model\n",
    "# gc.collect()\n"
   ]
  },
  {
   "cell_type": "code",
   "execution_count": 3,
   "metadata": {},
   "outputs": [
    {
     "name": "stdout",
     "output_type": "stream",
     "text": [
      "true\n"
     ]
    }
   ],
   "source": [
    "import os\n",
    "os.environ['TF_FORCE_GPU_ALLOW_GROWTH'] = 'true'\n",
    "print(os.environ.get('TF_FORCE_GPU_ALLOW_GROWTH'))  # Should print 'true'\n"
   ]
  },
  {
   "cell_type": "code",
   "execution_count": 4,
   "metadata": {},
   "outputs": [
    {
     "name": "stdout",
     "output_type": "stream",
     "text": [
      "Memory growth enabled for: PhysicalDevice(name='/physical_device:GPU:0', device_type='GPU')\n"
     ]
    }
   ],
   "source": [
    "import tensorflow as tf\n",
    "\n",
    "# List all physical GPUs\n",
    "gpus = tf.config.list_physical_devices('GPU')\n",
    "\n",
    "if gpus:\n",
    "    # Enable memory growth on the single GPU\n",
    "    try:\n",
    "        tf.config.experimental.set_memory_growth(gpus[0], True)  # Ensure incremental memory allocation\n",
    "        print(f\"Memory growth enabled for: {gpus[0]}\")\n",
    "    except RuntimeError as e:\n",
    "        print(f\"Error setting memory growth: {e}\")\n",
    "else:\n",
    "    print(\"No GPU detected.\")\n"
   ]
  },
  {
   "cell_type": "code",
   "execution_count": 5,
   "metadata": {},
   "outputs": [
    {
     "name": "stdout",
     "output_type": "stream",
     "text": [
      "GPU Available: [PhysicalDevice(name='/physical_device:GPU:0', device_type='GPU')]\n"
     ]
    }
   ],
   "source": [
    "import tensorflow as tf\n",
    "print(\"GPU Available:\", tf.config.list_physical_devices('GPU'))"
   ]
  },
  {
   "cell_type": "markdown",
   "metadata": {},
   "source": [
    "Set seed"
   ]
  },
  {
   "cell_type": "code",
   "execution_count": 6,
   "metadata": {
    "execution": {
     "iopub.execute_input": "2022-03-11T13:19:25.99373Z",
     "iopub.status.busy": "2022-03-11T13:19:25.993435Z",
     "iopub.status.idle": "2022-03-11T13:19:26.016866Z",
     "shell.execute_reply": "2022-03-11T13:19:26.016121Z",
     "shell.execute_reply.started": "2022-03-11T13:19:25.993694Z"
    }
   },
   "outputs": [],
   "source": [
    "SEED = 0\n",
    "import random\n",
    "import numpy as np\n",
    "random.seed(SEED)\n",
    "np.random.seed(SEED)\n",
    "tf.random.set_seed(SEED)"
   ]
  },
  {
   "cell_type": "markdown",
   "metadata": {},
   "source": [
    "# Load data"
   ]
  },
  {
   "cell_type": "markdown",
   "metadata": {},
   "source": [
    "DataGenerator class to load videos per batch, in case all videos do not fit in memory"
   ]
  },
  {
   "cell_type": "code",
   "execution_count": 8,
   "metadata": {},
   "outputs": [],
   "source": [
    "from concurrent.futures import ThreadPoolExecutor\n",
    "import numpy as np\n",
    "import cv2\n",
    "import tensorflow as tf\n",
    "import gc\n",
    "\n",
    "ORIGINAL_FRAMES_PER_VIDEO = 150\n",
    "FRAMES_PER_VIDEO = 50\n",
    "VIDEO_WIDTH, VIDEO_HEIGHT = 100, 100\n",
    "N_CHANNELS = 3\n",
    "\n",
    "def process_single_video(video_ID: str, video_label: dict, frames_idx: set, video_width: int, video_height: int, \n",
    "                         video_channels: int, dtype, normalize: bool):\n",
    "    \"\"\"Process a single video file.\"\"\"\n",
    "    cap = cv2.VideoCapture(video_ID)\n",
    "    frames = []\n",
    "    index = 0\n",
    "    while True:\n",
    "        ret, frame = cap.read()\n",
    "        if not ret:\n",
    "            break\n",
    "        if index in frames_idx:\n",
    "            frame = cv2.resize(frame, (video_width, video_height)).astype(dtype)\n",
    "            if normalize:\n",
    "                frame /= 255.0\n",
    "            frames.append(frame)\n",
    "        index += 1\n",
    "    cap.release()\n",
    "    video_data = np.array(frames)\n",
    "    label = video_label[video_ID]\n",
    "    return video_data, label\n",
    "\n",
    "def load_videos(video_IDs: list, video_labels: dict, video_frames: int = FRAMES_PER_VIDEO, video_width: int = VIDEO_WIDTH, \n",
    "                video_height: int = VIDEO_HEIGHT, video_channels: int = N_CHANNELS, dtype=np.float32, normalize: bool = False) -> tuple:\n",
    "    \"\"\"Load videos using multithreading.\"\"\"\n",
    "    videos = np.empty((len(video_IDs), video_frames, video_height, video_width, video_channels), dtype=dtype)\n",
    "    labels = np.empty((len(video_IDs),), dtype=np.int8)\n",
    "\n",
    "    # Indexes of frames to be kept to comply with video_frames\n",
    "    frames_idx = set(np.round(np.linspace(0, ORIGINAL_FRAMES_PER_VIDEO - 1, video_frames)).astype(int))\n",
    "    \n",
    "    # Use ThreadPoolExecutor to parallelize video processing\n",
    "    with ThreadPoolExecutor() as executor:\n",
    "        futures = [executor.submit(process_single_video, video_ID, video_labels, frames_idx, video_width, video_height, \n",
    "                                   video_channels, dtype, normalize) for video_ID in video_IDs]\n",
    "        for i, future in enumerate(futures):\n",
    "            video_data, label = future.result()\n",
    "            videos[i,] = video_data\n",
    "            labels[i] = label\n",
    "\n",
    "    return videos, labels\n",
    "\n",
    "class DataGenerator(tf.keras.utils.Sequence):\n",
    "    def __init__(self, video_IDs: list, video_labels: dict, batch_size: int, video_width: int = VIDEO_WIDTH, \n",
    "                 video_height: int = VIDEO_HEIGHT, video_frames: int = FRAMES_PER_VIDEO, video_channels: int = N_CHANNELS, \n",
    "                 dtype=np.float32, normalize: bool = False, shuffle: bool = True):\n",
    "        self.video_IDs = video_IDs\n",
    "        self.video_labels = video_labels\n",
    "        self.batch_size = batch_size\n",
    "        self.video_width = video_width\n",
    "        self.video_height = video_height\n",
    "        self.video_frames = video_frames\n",
    "        self.video_channels = video_channels\n",
    "        self.dtype = dtype\n",
    "        self.normalize = normalize\n",
    "        self.shuffle = shuffle\n",
    "\n",
    "    def __len__(self):\n",
    "        return len(self.video_IDs) // self.batch_size\n",
    "\n",
    "    def __getitem__(self, idx):\n",
    "        batch_IDs = self.video_IDs[idx * self.batch_size:(idx + 1) * self.batch_size]\n",
    "        return load_videos(batch_IDs, self.video_labels, self.video_frames, self.video_width, self.video_height, \n",
    "                           self.video_channels, self.dtype, self.normalize)\n",
    "\n",
    "    def on_epoch_end(self):\n",
    "        if self.shuffle:\n",
    "            np.random.shuffle(self.video_IDs)\n",
    "        gc.collect()\n"
   ]
  },
  {
   "cell_type": "markdown",
   "metadata": {},
   "source": [
    "## Videos to load"
   ]
  },
  {
   "cell_type": "code",
   "execution_count": 9,
   "metadata": {},
   "outputs": [],
   "source": [
    "import glob\n",
    "\n",
    "train_video_IDs = glob.glob(f\"{PATH}/train/*/*\")\n",
    "train_video_labels = {video: 0 if 'NonFight' in video else 1 for video in train_video_IDs}\n",
    "test_video_IDs = glob.glob(f\"{PATH}/val/*/*\")\n",
    "test_video_labels = {video: 0 if 'NonFight' in video else 1 for video in test_video_IDs}\n",
    "\n",
    "train_generator = DataGenerator(train_video_IDs, train_video_labels, batch_size=24)\n",
    "test_generator = DataGenerator(test_video_IDs, test_video_labels, batch_size=24)"
   ]
  },
  {
   "cell_type": "markdown",
   "metadata": {},
   "source": [
    "# ConvLSTM"
   ]
  },
  {
   "cell_type": "code",
   "execution_count": 17,
   "metadata": {
    "execution": {
     "iopub.execute_input": "2022-03-11T13:19:26.087766Z",
     "iopub.status.busy": "2022-03-11T13:19:26.087254Z",
     "iopub.status.idle": "2022-03-11T13:19:26.223842Z",
     "shell.execute_reply": "2022-03-11T13:19:26.223066Z",
     "shell.execute_reply.started": "2022-03-11T13:19:26.087727Z"
    }
   },
   "outputs": [
    {
     "data": {
      "text/html": [
       "<pre style=\"white-space:pre;overflow-x:auto;line-height:normal;font-family:Menlo,'DejaVu Sans Mono',consolas,'Courier New',monospace\"><span style=\"font-weight: bold\">Model: \"functional\"</span>\n",
       "</pre>\n"
      ],
      "text/plain": [
       "\u001b[1mModel: \"functional\"\u001b[0m\n"
      ]
     },
     "metadata": {},
     "output_type": "display_data"
    },
    {
     "data": {
      "text/html": [
       "<pre style=\"white-space:pre;overflow-x:auto;line-height:normal;font-family:Menlo,'DejaVu Sans Mono',consolas,'Courier New',monospace\">┏━━━━━━━━━━━━━━━━━━━━━━━━━━━━━━━━━┳━━━━━━━━━━━━━━━━━━━━━━━━┳━━━━━━━━━━━━━━━┓\n",
       "┃<span style=\"font-weight: bold\"> Layer (type)                    </span>┃<span style=\"font-weight: bold\"> Output Shape           </span>┃<span style=\"font-weight: bold\">       Param # </span>┃\n",
       "┡━━━━━━━━━━━━━━━━━━━━━━━━━━━━━━━━━╇━━━━━━━━━━━━━━━━━━━━━━━━╇━━━━━━━━━━━━━━━┩\n",
       "│ input_layer (<span style=\"color: #0087ff; text-decoration-color: #0087ff\">InputLayer</span>)        │ (<span style=\"color: #00d7ff; text-decoration-color: #00d7ff\">None</span>, <span style=\"color: #00af00; text-decoration-color: #00af00\">50</span>, <span style=\"color: #00af00; text-decoration-color: #00af00\">100</span>, <span style=\"color: #00af00; text-decoration-color: #00af00\">100</span>,   │             <span style=\"color: #00af00; text-decoration-color: #00af00\">0</span> │\n",
       "│                                 │ <span style=\"color: #00af00; text-decoration-color: #00af00\">3</span>)                     │               │\n",
       "├─────────────────────────────────┼────────────────────────┼───────────────┤\n",
       "│ conv_lstm2d (<span style=\"color: #0087ff; text-decoration-color: #0087ff\">ConvLSTM2D</span>)        │ (<span style=\"color: #00d7ff; text-decoration-color: #00d7ff\">None</span>, <span style=\"color: #00af00; text-decoration-color: #00af00\">98</span>, <span style=\"color: #00af00; text-decoration-color: #00af00\">98</span>, <span style=\"color: #00af00; text-decoration-color: #00af00\">32</span>)     │        <span style=\"color: #00af00; text-decoration-color: #00af00\">40,448</span> │\n",
       "├─────────────────────────────────┼────────────────────────┼───────────────┤\n",
       "│ depthwise_conv2d                │ (<span style=\"color: #00d7ff; text-decoration-color: #00d7ff\">None</span>, <span style=\"color: #00af00; text-decoration-color: #00af00\">96</span>, <span style=\"color: #00af00; text-decoration-color: #00af00\">96</span>, <span style=\"color: #00af00; text-decoration-color: #00af00\">64</span>)     │           <span style=\"color: #00af00; text-decoration-color: #00af00\">640</span> │\n",
       "│ (<span style=\"color: #0087ff; text-decoration-color: #0087ff\">DepthwiseConv2D</span>)               │                        │               │\n",
       "├─────────────────────────────────┼────────────────────────┼───────────────┤\n",
       "│ global_average_pooling2d        │ (<span style=\"color: #00d7ff; text-decoration-color: #00d7ff\">None</span>, <span style=\"color: #00af00; text-decoration-color: #00af00\">64</span>)             │             <span style=\"color: #00af00; text-decoration-color: #00af00\">0</span> │\n",
       "│ (<span style=\"color: #0087ff; text-decoration-color: #0087ff\">GlobalAveragePooling2D</span>)        │                        │               │\n",
       "├─────────────────────────────────┼────────────────────────┼───────────────┤\n",
       "│ dense (<span style=\"color: #0087ff; text-decoration-color: #0087ff\">Dense</span>)                   │ (<span style=\"color: #00d7ff; text-decoration-color: #00d7ff\">None</span>, <span style=\"color: #00af00; text-decoration-color: #00af00\">128</span>)            │         <span style=\"color: #00af00; text-decoration-color: #00af00\">8,320</span> │\n",
       "├─────────────────────────────────┼────────────────────────┼───────────────┤\n",
       "│ dense_1 (<span style=\"color: #0087ff; text-decoration-color: #0087ff\">Dense</span>)                 │ (<span style=\"color: #00d7ff; text-decoration-color: #00d7ff\">None</span>, <span style=\"color: #00af00; text-decoration-color: #00af00\">16</span>)             │         <span style=\"color: #00af00; text-decoration-color: #00af00\">2,064</span> │\n",
       "├─────────────────────────────────┼────────────────────────┼───────────────┤\n",
       "│ dense_2 (<span style=\"color: #0087ff; text-decoration-color: #0087ff\">Dense</span>)                 │ (<span style=\"color: #00d7ff; text-decoration-color: #00d7ff\">None</span>, <span style=\"color: #00af00; text-decoration-color: #00af00\">1</span>)              │            <span style=\"color: #00af00; text-decoration-color: #00af00\">17</span> │\n",
       "└─────────────────────────────────┴────────────────────────┴───────────────┘\n",
       "</pre>\n"
      ],
      "text/plain": [
       "┏━━━━━━━━━━━━━━━━━━━━━━━━━━━━━━━━━┳━━━━━━━━━━━━━━━━━━━━━━━━┳━━━━━━━━━━━━━━━┓\n",
       "┃\u001b[1m \u001b[0m\u001b[1mLayer (type)                   \u001b[0m\u001b[1m \u001b[0m┃\u001b[1m \u001b[0m\u001b[1mOutput Shape          \u001b[0m\u001b[1m \u001b[0m┃\u001b[1m \u001b[0m\u001b[1m      Param #\u001b[0m\u001b[1m \u001b[0m┃\n",
       "┡━━━━━━━━━━━━━━━━━━━━━━━━━━━━━━━━━╇━━━━━━━━━━━━━━━━━━━━━━━━╇━━━━━━━━━━━━━━━┩\n",
       "│ input_layer (\u001b[38;5;33mInputLayer\u001b[0m)        │ (\u001b[38;5;45mNone\u001b[0m, \u001b[38;5;34m50\u001b[0m, \u001b[38;5;34m100\u001b[0m, \u001b[38;5;34m100\u001b[0m,   │             \u001b[38;5;34m0\u001b[0m │\n",
       "│                                 │ \u001b[38;5;34m3\u001b[0m)                     │               │\n",
       "├─────────────────────────────────┼────────────────────────┼───────────────┤\n",
       "│ conv_lstm2d (\u001b[38;5;33mConvLSTM2D\u001b[0m)        │ (\u001b[38;5;45mNone\u001b[0m, \u001b[38;5;34m98\u001b[0m, \u001b[38;5;34m98\u001b[0m, \u001b[38;5;34m32\u001b[0m)     │        \u001b[38;5;34m40,448\u001b[0m │\n",
       "├─────────────────────────────────┼────────────────────────┼───────────────┤\n",
       "│ depthwise_conv2d                │ (\u001b[38;5;45mNone\u001b[0m, \u001b[38;5;34m96\u001b[0m, \u001b[38;5;34m96\u001b[0m, \u001b[38;5;34m64\u001b[0m)     │           \u001b[38;5;34m640\u001b[0m │\n",
       "│ (\u001b[38;5;33mDepthwiseConv2D\u001b[0m)               │                        │               │\n",
       "├─────────────────────────────────┼────────────────────────┼───────────────┤\n",
       "│ global_average_pooling2d        │ (\u001b[38;5;45mNone\u001b[0m, \u001b[38;5;34m64\u001b[0m)             │             \u001b[38;5;34m0\u001b[0m │\n",
       "│ (\u001b[38;5;33mGlobalAveragePooling2D\u001b[0m)        │                        │               │\n",
       "├─────────────────────────────────┼────────────────────────┼───────────────┤\n",
       "│ dense (\u001b[38;5;33mDense\u001b[0m)                   │ (\u001b[38;5;45mNone\u001b[0m, \u001b[38;5;34m128\u001b[0m)            │         \u001b[38;5;34m8,320\u001b[0m │\n",
       "├─────────────────────────────────┼────────────────────────┼───────────────┤\n",
       "│ dense_1 (\u001b[38;5;33mDense\u001b[0m)                 │ (\u001b[38;5;45mNone\u001b[0m, \u001b[38;5;34m16\u001b[0m)             │         \u001b[38;5;34m2,064\u001b[0m │\n",
       "├─────────────────────────────────┼────────────────────────┼───────────────┤\n",
       "│ dense_2 (\u001b[38;5;33mDense\u001b[0m)                 │ (\u001b[38;5;45mNone\u001b[0m, \u001b[38;5;34m1\u001b[0m)              │            \u001b[38;5;34m17\u001b[0m │\n",
       "└─────────────────────────────────┴────────────────────────┴───────────────┘\n"
      ]
     },
     "metadata": {},
     "output_type": "display_data"
    },
    {
     "data": {
      "text/html": [
       "<pre style=\"white-space:pre;overflow-x:auto;line-height:normal;font-family:Menlo,'DejaVu Sans Mono',consolas,'Courier New',monospace\"><span style=\"font-weight: bold\"> Total params: </span><span style=\"color: #00af00; text-decoration-color: #00af00\">51,489</span> (201.13 KB)\n",
       "</pre>\n"
      ],
      "text/plain": [
       "\u001b[1m Total params: \u001b[0m\u001b[38;5;34m51,489\u001b[0m (201.13 KB)\n"
      ]
     },
     "metadata": {},
     "output_type": "display_data"
    },
    {
     "data": {
      "text/html": [
       "<pre style=\"white-space:pre;overflow-x:auto;line-height:normal;font-family:Menlo,'DejaVu Sans Mono',consolas,'Courier New',monospace\"><span style=\"font-weight: bold\"> Trainable params: </span><span style=\"color: #00af00; text-decoration-color: #00af00\">51,489</span> (201.13 KB)\n",
       "</pre>\n"
      ],
      "text/plain": [
       "\u001b[1m Trainable params: \u001b[0m\u001b[38;5;34m51,489\u001b[0m (201.13 KB)\n"
      ]
     },
     "metadata": {},
     "output_type": "display_data"
    },
    {
     "data": {
      "text/html": [
       "<pre style=\"white-space:pre;overflow-x:auto;line-height:normal;font-family:Menlo,'DejaVu Sans Mono',consolas,'Courier New',monospace\"><span style=\"font-weight: bold\"> Non-trainable params: </span><span style=\"color: #00af00; text-decoration-color: #00af00\">0</span> (0.00 B)\n",
       "</pre>\n"
      ],
      "text/plain": [
       "\u001b[1m Non-trainable params: \u001b[0m\u001b[38;5;34m0\u001b[0m (0.00 B)\n"
      ]
     },
     "metadata": {},
     "output_type": "display_data"
    }
   ],
   "source": [
    "inputs = tf.keras.layers.Input(shape=(FRAMES_PER_VIDEO, VIDEO_HEIGHT, VIDEO_WIDTH, N_CHANNELS))\n",
    "\n",
    "x = tf.keras.layers.ConvLSTM2D(filters=32, kernel_size=(3, 3), return_sequences=False, data_format='channels_last', activation='tanh')(inputs)\n",
    "\n",
    "x = tf.keras.layers.DepthwiseConv2D(kernel_size=(3, 3), depth_multiplier=2, activation='relu', data_format='channels_last')(x)\n",
    "\n",
    "x = tf.keras.layers.GlobalAveragePooling2D(data_format='channels_last')(x)\n",
    "\n",
    "x = tf.keras.layers.Dense(units=128, activation='relu')(x)\n",
    "x = tf.keras.layers.Dense(units=16, activation='relu')(x)\n",
    "outputs = tf.keras.layers.Dense(units=1, activation='sigmoid')(x)\n",
    "\n",
    "model = tf.keras.Model(inputs, outputs)\n",
    "model.compile(optimizer='adam', loss='binary_crossentropy', metrics=['accuracy'])\n",
    "\n",
    "model.summary()"
   ]
  },
  {
   "cell_type": "code",
   "execution_count": null,
   "metadata": {},
   "outputs": [],
   "source": []
  },
  {
   "cell_type": "code",
   "execution_count": 18,
   "metadata": {},
   "outputs": [
    {
     "name": "stderr",
     "output_type": "stream",
     "text": [
      "/home/wins054/anaconda3/envs/violence-detection-env/lib/python3.9/site-packages/keras/src/trainers/data_adapters/py_dataset_adapter.py:121: UserWarning: Your `PyDataset` class should call `super().__init__(**kwargs)` in its constructor. `**kwargs` can include `workers`, `use_multiprocessing`, `max_queue_size`. Do not pass these arguments to `fit()`, as they will be ignored.\n",
      "  self._warn_if_super_not_called()\n"
     ]
    },
    {
     "name": "stdout",
     "output_type": "stream",
     "text": [
      "Epoch 1/30\n"
     ]
    },
    {
     "name": "stderr",
     "output_type": "stream",
     "text": [
      "WARNING: All log messages before absl::InitializeLog() is called are written to STDERR\n",
      "I0000 00:00:1734090856.099323 1138357 service.cc:148] XLA service 0x640bc37ddba0 initialized for platform CUDA (this does not guarantee that XLA will be used). Devices:\n",
      "I0000 00:00:1734090856.099362 1138357 service.cc:156]   StreamExecutor device (0): NVIDIA GeForce RTX 3090, Compute Capability 8.6\n",
      "2024-12-13 19:54:16.217849: I tensorflow/compiler/mlir/tensorflow/utils/dump_mlir_util.cc:268] disabling MLIR crash reproducer, set env var `MLIR_CRASH_REPRODUCER_DIRECTORY` to enable.\n",
      "I0000 00:00:1734090856.584709 1138357 cuda_dnn.cc:529] Loaded cuDNN version 90300\n",
      "I0000 00:00:1734090858.695482 1138357 device_compiler.h:188] Compiled cluster using XLA!  This line is logged at most once for the lifetime of the process.\n"
     ]
    },
    {
     "name": "stdout",
     "output_type": "stream",
     "text": [
      "65/65 - 47s - 723ms/step - accuracy: 0.5494 - loss: 0.6905 - val_accuracy: 0.6927 - val_loss: 0.6762\n",
      "Epoch 2/30\n",
      "65/65 - 41s - 635ms/step - accuracy: 0.6218 - loss: 0.6577 - val_accuracy: 0.7005 - val_loss: 0.5781\n",
      "Epoch 3/30\n",
      "65/65 - 42s - 644ms/step - accuracy: 0.6782 - loss: 0.6024 - val_accuracy: 0.7682 - val_loss: 0.5024\n",
      "Epoch 4/30\n",
      "65/65 - 41s - 632ms/step - accuracy: 0.7154 - loss: 0.5427 - val_accuracy: 0.7917 - val_loss: 0.4535\n",
      "Epoch 5/30\n",
      "65/65 - 41s - 633ms/step - accuracy: 0.7545 - loss: 0.5065 - val_accuracy: 0.7891 - val_loss: 0.4450\n",
      "Epoch 6/30\n",
      "65/65 - 42s - 640ms/step - accuracy: 0.7647 - loss: 0.4879 - val_accuracy: 0.8281 - val_loss: 0.4104\n",
      "Epoch 7/30\n",
      "65/65 - 42s - 645ms/step - accuracy: 0.7673 - loss: 0.4745 - val_accuracy: 0.7448 - val_loss: 0.5071\n",
      "Epoch 8/30\n",
      "65/65 - 41s - 629ms/step - accuracy: 0.7788 - loss: 0.4773 - val_accuracy: 0.8021 - val_loss: 0.4278\n",
      "Epoch 9/30\n",
      "65/65 - 41s - 631ms/step - accuracy: 0.7942 - loss: 0.4553 - val_accuracy: 0.8125 - val_loss: 0.4191\n",
      "Epoch 10/30\n",
      "65/65 - 42s - 647ms/step - accuracy: 0.7917 - loss: 0.4545 - val_accuracy: 0.8125 - val_loss: 0.4055\n",
      "Epoch 11/30\n",
      "65/65 - 41s - 636ms/step - accuracy: 0.8026 - loss: 0.4414 - val_accuracy: 0.8125 - val_loss: 0.3956\n",
      "Epoch 12/30\n",
      "65/65 - 41s - 629ms/step - accuracy: 0.7904 - loss: 0.4528 - val_accuracy: 0.8099 - val_loss: 0.4157\n",
      "Epoch 13/30\n",
      "65/65 - 41s - 637ms/step - accuracy: 0.7994 - loss: 0.4421 - val_accuracy: 0.8333 - val_loss: 0.3739\n",
      "Epoch 14/30\n",
      "65/65 - 42s - 641ms/step - accuracy: 0.8115 - loss: 0.4238 - val_accuracy: 0.8438 - val_loss: 0.3670\n",
      "Epoch 15/30\n",
      "65/65 - 41s - 628ms/step - accuracy: 0.8141 - loss: 0.4291 - val_accuracy: 0.8255 - val_loss: 0.3757\n",
      "Epoch 16/30\n",
      "65/65 - 41s - 631ms/step - accuracy: 0.8032 - loss: 0.4409 - val_accuracy: 0.8255 - val_loss: 0.3818\n",
      "Epoch 17/30\n",
      "65/65 - 42s - 654ms/step - accuracy: 0.8141 - loss: 0.4158 - val_accuracy: 0.8307 - val_loss: 0.3760\n",
      "Epoch 18/30\n",
      "65/65 - 42s - 643ms/step - accuracy: 0.8096 - loss: 0.4083 - val_accuracy: 0.8255 - val_loss: 0.3888\n",
      "Epoch 19/30\n",
      "65/65 - 41s - 634ms/step - accuracy: 0.8205 - loss: 0.4051 - val_accuracy: 0.8411 - val_loss: 0.3750\n",
      "Epoch 20/30\n",
      "65/65 - 42s - 650ms/step - accuracy: 0.8301 - loss: 0.3962 - val_accuracy: 0.8307 - val_loss: 0.3743\n",
      "Epoch 21/30\n",
      "65/65 - 41s - 635ms/step - accuracy: 0.8276 - loss: 0.3892 - val_accuracy: 0.8359 - val_loss: 0.3734\n",
      "Epoch 22/30\n",
      "65/65 - 41s - 628ms/step - accuracy: 0.8410 - loss: 0.3804 - val_accuracy: 0.8411 - val_loss: 0.3698\n",
      "Epoch 23/30\n",
      "65/65 - 42s - 639ms/step - accuracy: 0.8333 - loss: 0.3819 - val_accuracy: 0.8438 - val_loss: 0.3746\n",
      "Epoch 24/30\n",
      "65/65 - 42s - 640ms/step - accuracy: 0.8442 - loss: 0.3647 - val_accuracy: 0.8307 - val_loss: 0.3966\n",
      "Epoch 25/30\n",
      "65/65 - 42s - 641ms/step - accuracy: 0.8410 - loss: 0.3723 - val_accuracy: 0.8568 - val_loss: 0.3530\n",
      "Epoch 26/30\n",
      "65/65 - 41s - 637ms/step - accuracy: 0.8417 - loss: 0.3622 - val_accuracy: 0.8385 - val_loss: 0.3674\n",
      "Epoch 27/30\n",
      "65/65 - 41s - 628ms/step - accuracy: 0.8603 - loss: 0.3379 - val_accuracy: 0.8281 - val_loss: 0.3999\n",
      "Epoch 28/30\n",
      "65/65 - 41s - 633ms/step - accuracy: 0.8603 - loss: 0.3451 - val_accuracy: 0.8438 - val_loss: 0.3675\n",
      "Epoch 29/30\n",
      "65/65 - 41s - 628ms/step - accuracy: 0.8532 - loss: 0.3456 - val_accuracy: 0.8516 - val_loss: 0.3390\n",
      "Epoch 30/30\n",
      "65/65 - 41s - 637ms/step - accuracy: 0.8609 - loss: 0.3313 - val_accuracy: 0.8333 - val_loss: 0.3815\n"
     ]
    }
   ],
   "source": [
    "with tf.device('/GPU:0'):\n",
    "    history = model.fit(train_generator, epochs=30, validation_data=test_generator, verbose=2)"
   ]
  },
  {
   "cell_type": "code",
   "execution_count": 10,
   "metadata": {
    "execution": {
     "iopub.execute_input": "2022-03-11T13:19:26.225669Z",
     "iopub.status.busy": "2022-03-11T13:19:26.225387Z",
     "iopub.status.idle": "2022-03-11T14:02:30.18049Z",
     "shell.execute_reply": "2022-03-11T14:02:30.177368Z",
     "shell.execute_reply.started": "2022-03-11T13:19:26.225631Z"
    },
    "pycharm": {
     "is_executing": true
    }
   },
   "outputs": [
    {
     "name": "stdout",
     "output_type": "stream",
     "text": [
      "Epoch 1/30\n"
     ]
    },
    {
     "name": "stderr",
     "output_type": "stream",
     "text": [
      "2022-05-05 15:19:47.658558: I tensorflow/stream_executor/cuda/cuda_dnn.cc:368] Loaded cuDNN version 8303\n",
      "2022-05-05 15:19:48.725938: W tensorflow/stream_executor/gpu/asm_compiler.cc:111] *** WARNING *** You are using ptxas 10.1.243, which is older than 11.1. ptxas before 11.1 is known to miscompile XLA code, leading to incorrect results or invalid-address errors.\n",
      "\n",
      "You may not need to update to CUDA 11.1; cherry-picking the ptxas binary is often sufficient.\n",
      "2022-05-05 15:19:48.727588: W tensorflow/stream_executor/gpu/asm_compiler.cc:230] Falling back to the CUDA driver for PTX compilation; ptxas does not support CC 8.0\n",
      "2022-05-05 15:19:48.727618: W tensorflow/stream_executor/gpu/asm_compiler.cc:233] Used ptxas at ptxas\n",
      "2022-05-05 15:19:48.727738: W tensorflow/stream_executor/gpu/redzone_allocator.cc:314] UNIMPLEMENTED: ptxas ptxas too old. Falling back to the driver to compile.\n",
      "Relying on driver to perform ptx compilation. \n",
      "Modify $PATH to customize ptxas location.\n",
      "This message will be only logged once.\n",
      "2022-05-05 15:19:48.960187: I tensorflow/stream_executor/cuda/cuda_blas.cc:1786] TensorFloat-32 will be used for the matrix multiplication. This will only be logged once.\n"
     ]
    },
    {
     "name": "stdout",
     "output_type": "stream",
     "text": [
      "160/160 - 210s - loss: 0.6919 - accuracy: 0.5206 - val_loss: 0.6819 - val_accuracy: 0.6400 - 210s/epoch - 1s/step\n",
      "Epoch 2/30\n",
      "160/160 - 206s - loss: 0.5965 - accuracy: 0.6850 - val_loss: 0.5086 - val_accuracy: 0.7425 - 206s/epoch - 1s/step\n",
      "Epoch 3/30\n",
      "160/160 - 205s - loss: 0.5288 - accuracy: 0.7387 - val_loss: 0.4894 - val_accuracy: 0.7600 - 205s/epoch - 1s/step\n",
      "Epoch 4/30\n",
      "160/160 - 204s - loss: 0.4983 - accuracy: 0.7563 - val_loss: 0.4516 - val_accuracy: 0.7875 - 204s/epoch - 1s/step\n",
      "Epoch 5/30\n",
      "160/160 - 205s - loss: 0.4701 - accuracy: 0.7856 - val_loss: 0.4329 - val_accuracy: 0.7950 - 205s/epoch - 1s/step\n",
      "Epoch 6/30\n",
      "160/160 - 205s - loss: 0.4315 - accuracy: 0.8062 - val_loss: 0.4047 - val_accuracy: 0.8225 - 205s/epoch - 1s/step\n",
      "Epoch 7/30\n",
      "160/160 - 206s - loss: 0.4119 - accuracy: 0.8225 - val_loss: 0.3884 - val_accuracy: 0.8325 - 206s/epoch - 1s/step\n",
      "Epoch 9/30\n",
      "160/160 - 206s - loss: 0.4165 - accuracy: 0.8169 - val_loss: 0.4096 - val_accuracy: 0.8200 - 206s/epoch - 1s/step\n",
      "Epoch 10/30\n",
      "160/160 - 206s - loss: 0.4164 - accuracy: 0.8206 - val_loss: 0.4011 - val_accuracy: 0.8150 - 206s/epoch - 1s/step\n",
      "Epoch 11/30\n",
      "160/160 - 206s - loss: 0.3933 - accuracy: 0.8319 - val_loss: 0.3945 - val_accuracy: 0.8350 - 206s/epoch - 1s/step\n",
      "Epoch 12/30\n",
      "160/160 - 206s - loss: 0.3810 - accuracy: 0.8344 - val_loss: 0.3855 - val_accuracy: 0.8325 - 206s/epoch - 1s/step\n",
      "Epoch 13/30\n",
      "160/160 - 206s - loss: 0.3749 - accuracy: 0.8419 - val_loss: 0.3855 - val_accuracy: 0.8250 - 206s/epoch - 1s/step\n",
      "Epoch 14/30\n",
      "160/160 - 205s - loss: 0.3737 - accuracy: 0.8400 - val_loss: 0.3880 - val_accuracy: 0.8300 - 205s/epoch - 1s/step\n",
      "Epoch 15/30\n",
      "160/160 - 205s - loss: 0.3712 - accuracy: 0.8394 - val_loss: 0.4084 - val_accuracy: 0.8200 - 205s/epoch - 1s/step\n",
      "Epoch 16/30\n",
      "160/160 - 205s - loss: 0.3575 - accuracy: 0.8487 - val_loss: 0.3820 - val_accuracy: 0.8325 - 205s/epoch - 1s/step\n",
      "Epoch 17/30\n",
      "160/160 - 206s - loss: 0.3612 - accuracy: 0.8519 - val_loss: 0.4862 - val_accuracy: 0.7950 - 206s/epoch - 1s/step\n",
      "Epoch 18/30\n",
      "160/160 - 206s - loss: 0.3672 - accuracy: 0.8419 - val_loss: 0.4298 - val_accuracy: 0.8150 - 206s/epoch - 1s/step\n",
      "Epoch 19/30\n",
      "160/160 - 207s - loss: 0.3543 - accuracy: 0.8500 - val_loss: 0.4538 - val_accuracy: 0.8100 - 207s/epoch - 1s/step\n",
      "Epoch 20/30\n",
      "160/160 - 206s - loss: 0.3509 - accuracy: 0.8606 - val_loss: 0.3952 - val_accuracy: 0.8200 - 206s/epoch - 1s/step\n",
      "Epoch 21/30\n",
      "160/160 - 206s - loss: 0.3521 - accuracy: 0.8587 - val_loss: 0.4087 - val_accuracy: 0.8175 - 206s/epoch - 1s/step\n",
      "Epoch 22/30\n",
      "160/160 - 207s - loss: 0.3311 - accuracy: 0.8656 - val_loss: 0.3831 - val_accuracy: 0.8425 - 207s/epoch - 1s/step\n",
      "Epoch 23/30\n",
      "160/160 - 207s - loss: 0.3486 - accuracy: 0.8544 - val_loss: 0.3695 - val_accuracy: 0.8400 - 207s/epoch - 1s/step\n",
      "Epoch 24/30\n",
      "160/160 - 207s - loss: 0.3426 - accuracy: 0.8581 - val_loss: 0.3797 - val_accuracy: 0.8475 - 207s/epoch - 1s/step\n",
      "Epoch 25/30\n",
      "160/160 - 206s - loss: 0.3281 - accuracy: 0.8694 - val_loss: 0.3826 - val_accuracy: 0.8400 - 206s/epoch - 1s/step\n",
      "Epoch 26/30\n",
      "160/160 - 207s - loss: 0.3319 - accuracy: 0.8694 - val_loss: 0.4029 - val_accuracy: 0.8450 - 207s/epoch - 1s/step\n",
      "Epoch 27/30\n",
      "160/160 - 206s - loss: 0.3212 - accuracy: 0.8725 - val_loss: 0.4087 - val_accuracy: 0.8175 - 206s/epoch - 1s/step\n",
      "Epoch 28/30\n",
      "160/160 - 205s - loss: 0.3160 - accuracy: 0.8788 - val_loss: 0.4102 - val_accuracy: 0.8350 - 205s/epoch - 1s/step\n",
      "Epoch 29/30\n",
      "160/160 - 206s - loss: 0.3204 - accuracy: 0.8744 - val_loss: 0.3781 - val_accuracy: 0.8325 - 206s/epoch - 1s/step\n",
      "Epoch 30/30\n",
      "160/160 - 206s - loss: 0.3239 - accuracy: 0.8656 - val_loss: 0.3961 - val_accuracy: 0.8475 - 206s/epoch - 1s/step\n"
     ]
    }
   ],
   "source": [
    "history = model.fit(train_generator, epochs=30, validation_data=test_generator, verbose=2)"
   ]
  },
  {
   "cell_type": "markdown",
   "metadata": {},
   "source": [
    "# Reproduce Model Performance"
   ]
  },
  {
   "cell_type": "code",
   "execution_count": 19,
   "metadata": {},
   "outputs": [
    {
     "data": {
      "image/png": "[encoded data removed]",
      "text/plain": [
       "<Figure size 432x288 with 1 Axes>"
      ]
     },
     "metadata": {
      "needs_background": "light"
     },
     "output_type": "display_data"
    },
    {
     "data": {
      "image/png": "[encoded data removed]",
      "text/plain": [
       "<Figure size 432x288 with 1 Axes>"
      ]
     },
     "metadata": {
      "needs_background": "light"
     },
     "output_type": "display_data"
    }
   ],
   "source": [
    "import matplotlib.pyplot as plt\n",
    "# summarize history for accuracy\n",
    "plt.plot(history.history['accuracy'])\n",
    "plt.plot(history.history['val_accuracy'])\n",
    "plt.title('model accuracy')\n",
    "plt.ylabel('accuracy')\n",
    "plt.xlabel('epoch')\n",
    "plt.legend(['train', 'test'], loc='upper left')\n",
    "plt.show()\n",
    "# summarize history for loss\n",
    "plt.plot(history.history['loss'])\n",
    "plt.plot(history.history['val_loss'])\n",
    "plt.title('model loss')\n",
    "plt.ylabel('loss')\n",
    "plt.xlabel('epoch')\n",
    "plt.legend(['train', 'test'], loc='upper left')\n",
    "plt.show()"
   ]
  },
  {
   "cell_type": "markdown",
   "metadata": {},
   "source": [
    "# Authors' Model performance"
   ]
  },
  {
   "cell_type": "code",
   "execution_count": 11,
   "metadata": {
    "execution": {
     "iopub.status.busy": "2022-03-11T14:02:30.183078Z",
     "iopub.status.idle": "2022-03-11T14:02:30.185057Z",
     "shell.execute_reply": "2022-03-11T14:02:30.184854Z",
     "shell.execute_reply.started": "2022-03-11T14:02:30.184829Z"
    },
    "pycharm": {
     "is_executing": true
    }
   },
   "outputs": [
    {
     "data": {
      "image/png": "[encoded data removed]",
      "text/plain": [
       "<Figure size 432x288 with 1 Axes>"
      ]
     },
     "metadata": {
      "needs_background": "light"
     },
     "output_type": "display_data"
    },
    {
     "data": {
      "image/png": "[encoded data removed]",
      "text/plain": [
       "<Figure size 432x288 with 1 Axes>"
      ]
     },
     "metadata": {
      "needs_background": "light"
     },
     "output_type": "display_data"
    }
   ],
   "source": [
    "import matplotlib.pyplot as plt\n",
    "# summarize history for accuracy\n",
    "plt.plot(history.history['accuracy'])\n",
    "plt.plot(history.history['val_accuracy'])\n",
    "plt.title('model accuracy')\n",
    "plt.ylabel('accuracy')\n",
    "plt.xlabel('epoch')\n",
    "plt.legend(['train', 'test'], loc='upper left')\n",
    "plt.show()\n",
    "# summarize history for loss\n",
    "plt.plot(history.history['loss'])\n",
    "plt.plot(history.history['val_loss'])\n",
    "plt.title('model loss')\n",
    "plt.ylabel('loss')\n",
    "plt.xlabel('epoch')\n",
    "plt.legend(['train', 'test'], loc='upper left')\n",
    "plt.show()"
   ]
  },
  {
   "cell_type": "markdown",
   "metadata": {},
   "source": [
    "# Save perfomance metrics"
   ]
  },
  {
   "cell_type": "code",
   "execution_count": 20,
   "metadata": {},
   "outputs": [],
   "source": [
    "import os\n",
    "import ipynbname\n",
    "import json\n",
    "# from keras.utils.layer_utils import count_params\n",
    "\n",
    "current_directory = os.getcwd() + '/'\n",
    "results_directory = current_directory.replace('notebooks', 'results_summary')\n",
    "\n",
    "# experiment_name = ipynbname.name()\n",
    "experiment_name = 'OpenPose\\ no_back'\n",
    "\n",
    "# Save history as json\n",
    "with open(results_directory + experiment_name + '.json', 'w') as f:\n",
    "    json.dump(history.history, f)\n",
    "    \n",
    "# Compute max val_accuracy and number of trainable params and append to stats\n",
    "max_val_acc = max(history.history['val_accuracy'])\n",
    "trainable_params = model.count_params()\n",
    "\n",
    "# Store value in latex table format\n",
    "acc_string = f'{experiment_name} & {max_val_acc:.2%}'.replace('%', '\\%')\n",
    "acc_params_string = acc_string + f' & {trainable_params}'\n",
    "\n",
    "with open(results_directory + 'acc.dat', 'a') as f:\n",
    "    f.write(acc_string + ' \\\\\\ \\n')\n",
    "    \n",
    "with open(results_directory + 'acc_params.dat', 'a') as f:\n",
    "    f.write(acc_params_string + ' \\\\\\ \\n')"
   ]
  },
  {
   "cell_type": "code",
   "execution_count": 21,
   "metadata": {},
   "outputs": [],
   "source": [
    "model.save(f'{experiment_name}.keras')"
   ]
  }
 ],
 "metadata": {
  "kernelspec": {
   "display_name": "violence-detection-env",
   "language": "python",
   "name": "python3"
  },
  "language_info": {
   "codemirror_mode": {
    "name": "ipython",
    "version": 3
   },
   "file_extension": ".py",
   "mimetype": "text/x-python",
   "name": "python",
   "nbconvert_exporter": "python",
   "pygments_lexer": "ipython3",
   "version": "3.9.7"
  }
 },
 "nbformat": 4,
 "nbformat_minor": 4
}
